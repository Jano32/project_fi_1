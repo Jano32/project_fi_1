{
 "cells": [
  {
   "cell_type": "code",
   "execution_count": 2,
   "metadata": {},
   "outputs": [],
   "source": [
    "import pandas as pd\n",
    "import numpy as np\n",
    "import matplotlib.pyplot as plt\n",
    "import seaborn as sns\n",
    "\n",
    "pd.set_option('display.max_row', 111)\n",
    "pd.set_option('display.max_column', 111)"
   ]
  },
  {
   "cell_type": "code",
   "execution_count": 5,
   "metadata": {},
   "outputs": [
    {
     "data": {
      "text/html": [
       "<div>\n",
       "<style scoped>\n",
       "    .dataframe tbody tr th:only-of-type {\n",
       "        vertical-align: middle;\n",
       "    }\n",
       "\n",
       "    .dataframe tbody tr th {\n",
       "        vertical-align: top;\n",
       "    }\n",
       "\n",
       "    .dataframe thead th {\n",
       "        text-align: right;\n",
       "    }\n",
       "</style>\n",
       "<table border=\"1\" class=\"dataframe\">\n",
       "  <thead>\n",
       "    <tr style=\"text-align: right;\">\n",
       "      <th></th>\n",
       "      <th>Date</th>\n",
       "      <th>Hour</th>\n",
       "      <th>Forex</th>\n",
       "      <th>Event</th>\n",
       "      <th>Actuel</th>\n",
       "      <th>Forecast</th>\n",
       "      <th>Previous</th>\n",
       "    </tr>\n",
       "  </thead>\n",
       "  <tbody>\n",
       "    <tr>\n",
       "      <th>0</th>\n",
       "      <td>2008-02-27</td>\n",
       "      <td>15:30:00</td>\n",
       "      <td>USD</td>\n",
       "      <td>Commandes de biens durables</td>\n",
       "      <td>-0.016</td>\n",
       "      <td>-0.014</td>\n",
       "      <td>0.023</td>\n",
       "    </tr>\n",
       "    <tr>\n",
       "      <th>1</th>\n",
       "      <td>2008-03-26</td>\n",
       "      <td>14:30:00</td>\n",
       "      <td>USD</td>\n",
       "      <td>Commandes de biens durables</td>\n",
       "      <td>-0.026</td>\n",
       "      <td>-0.003</td>\n",
       "      <td>-0.016</td>\n",
       "    </tr>\n",
       "    <tr>\n",
       "      <th>2</th>\n",
       "      <td>2008-04-24</td>\n",
       "      <td>14:30:00</td>\n",
       "      <td>USD</td>\n",
       "      <td>Commandes de biens durables</td>\n",
       "      <td>0.015</td>\n",
       "      <td>0.002</td>\n",
       "      <td>-0.024</td>\n",
       "    </tr>\n",
       "    <tr>\n",
       "      <th>3</th>\n",
       "      <td>2008-05-28</td>\n",
       "      <td>15:30:00</td>\n",
       "      <td>USD</td>\n",
       "      <td>Commandes de biens durables</td>\n",
       "      <td>0.025</td>\n",
       "      <td>-0.004</td>\n",
       "      <td>0.009</td>\n",
       "    </tr>\n",
       "    <tr>\n",
       "      <th>4</th>\n",
       "      <td>2008-06-25</td>\n",
       "      <td>14:30:00</td>\n",
       "      <td>USD</td>\n",
       "      <td>Commandes de biens durables</td>\n",
       "      <td>-0.009</td>\n",
       "      <td>-0.009</td>\n",
       "      <td>0.024</td>\n",
       "    </tr>\n",
       "  </tbody>\n",
       "</table>\n",
       "</div>"
      ],
      "text/plain": [
       "        Date      Hour Forex                        Event  Actuel  Forecast  \\\n",
       "0 2008-02-27  15:30:00   USD  Commandes de biens durables  -0.016    -0.014   \n",
       "1 2008-03-26  14:30:00   USD  Commandes de biens durables  -0.026    -0.003   \n",
       "2 2008-04-24  14:30:00   USD  Commandes de biens durables   0.015     0.002   \n",
       "3 2008-05-28  15:30:00   USD  Commandes de biens durables   0.025    -0.004   \n",
       "4 2008-06-25  14:30:00   USD  Commandes de biens durables  -0.009    -0.009   \n",
       "\n",
       "   Previous  \n",
       "0     0.023  \n",
       "1    -0.016  \n",
       "2    -0.024  \n",
       "3     0.009  \n",
       "4     0.024  "
      ]
     },
     "execution_count": 5,
     "metadata": {},
     "output_type": "execute_result"
    }
   ],
   "source": [
    "df = pd.read_excel(\"data_macro_new.xls\")\n",
    "df.head()"
   ]
  },
  {
   "cell_type": "code",
   "execution_count": 7,
   "metadata": {},
   "outputs": [
    {
     "name": "stdout",
     "output_type": "stream",
     "text": [
      "<class 'pandas.core.frame.DataFrame'>\n",
      "RangeIndex: 3923 entries, 0 to 3922\n",
      "Data columns (total 7 columns):\n",
      " #   Column    Non-Null Count  Dtype         \n",
      "---  ------    --------------  -----         \n",
      " 0   Date      3923 non-null   datetime64[ns]\n",
      " 1   Hour      3923 non-null   object        \n",
      " 2   Forex     3923 non-null   object        \n",
      " 3   Event     3923 non-null   object        \n",
      " 4   Actuel    3923 non-null   float64       \n",
      " 5   Forecast  3923 non-null   float64       \n",
      " 6   Previous  3923 non-null   float64       \n",
      "dtypes: datetime64[ns](1), float64(3), object(3)\n",
      "memory usage: 214.7+ KB\n"
     ]
    }
   ],
   "source": [
    "df.info()"
   ]
  },
  {
   "cell_type": "code",
   "execution_count": 10,
   "metadata": {},
   "outputs": [
    {
     "name": "stdout",
     "output_type": "stream",
     "text": [
      "<class 'pandas.core.frame.DataFrame'>\n",
      "RangeIndex: 3923 entries, 0 to 3922\n",
      "Data columns (total 7 columns):\n",
      " #   Column    Non-Null Count  Dtype         \n",
      "---  ------    --------------  -----         \n",
      " 0   Date      3923 non-null   datetime64[ns]\n",
      " 1   Hour      3923 non-null   object        \n",
      " 2   Forex     3923 non-null   string        \n",
      " 3   Event     3923 non-null   string        \n",
      " 4   Actuel    3923 non-null   float64       \n",
      " 5   Forecast  3923 non-null   float64       \n",
      " 6   Previous  3923 non-null   float64       \n",
      "dtypes: datetime64[ns](1), float64(3), object(1), string(2)\n",
      "memory usage: 214.7+ KB\n"
     ]
    }
   ],
   "source": [
    "df['Forex'] = df['Forex'].astype('string', errors = 'ignore')\n",
    "df['Event'] = df['Event'].astype('string', errors = 'ignore')\n",
    "df.info()"
   ]
  },
  {
   "cell_type": "code",
   "execution_count": 6,
   "metadata": {},
   "outputs": [
    {
     "data": {
      "text/plain": [
       "array(['Commandes de biens durables', 'Confiance des consommateurs',\n",
       "       \"Creation d'emplois dans le secteur non agricole\",\n",
       "       'Decision de la BCE sur les taux directeur',\n",
       "       'Decision de la FED sur les taux directeur',\n",
       "       'IFO climat des affaires Allemagne',\n",
       "       \"Indice PMI manufacturier de l'ISM\",\n",
       "       'Inscriptions hebdomadaires au chomage', 'IPC core mensuel',\n",
       "       'Nombre chomeur Allemagne', 'Permis de construire',\n",
       "       'PIB Trimestriel', 'PIB Trimestriel All', 'PIB Trimestriel US',\n",
       "       'PMI manufacturier Allemagne', 'Prix à la production mensuel',\n",
       "       'Promesses de ventes de logements', 'Taux de chomage',\n",
       "       'Ventes au détail mensuelle', 'Ventes de logements existants',\n",
       "       'Ventes de logements neufs'], dtype=object)"
      ]
     },
     "execution_count": 6,
     "metadata": {},
     "output_type": "execute_result"
    }
   ],
   "source": [
    "df['Event'].unique()"
   ]
  },
  {
   "cell_type": "code",
   "execution_count": null,
   "metadata": {},
   "outputs": [],
   "source": []
  }
 ],
 "metadata": {
  "kernelspec": {
   "display_name": "Python 3.9.9 64-bit",
   "language": "python",
   "name": "python3"
  },
  "language_info": {
   "codemirror_mode": {
    "name": "ipython",
    "version": 3
   },
   "file_extension": ".py",
   "mimetype": "text/x-python",
   "name": "python",
   "nbconvert_exporter": "python",
   "pygments_lexer": "ipython3",
   "version": "3.9.9"
  },
  "orig_nbformat": 4,
  "vscode": {
   "interpreter": {
    "hash": "11938c6bc6919ae2720b4d5011047913343b08a43b18698fd82dedb0d4417594"
   }
  }
 },
 "nbformat": 4,
 "nbformat_minor": 2
}
